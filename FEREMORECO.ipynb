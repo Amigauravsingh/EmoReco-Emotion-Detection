{
 "cells": [
  {
   "cell_type": "code",
   "execution_count": null,
   "id": "b73ca1b1",
   "metadata": {},
   "outputs": [],
   "source": [
    "import cv2\n",
    "from fer import FER\n",
    "\n",
    "faceCascade = cv2.CascadeClassifier(cv2.data.haarcascades + 'haarcascade_frontalface_default.xml')\n",
    "cap = cv2.VideoCapture(1)\n",
    "\n",
    "#check if the camera is opening properly\n",
    "if not cap.isOpened():\n",
    "    cap = cv2.VideoCapture(0)\n",
    "if not cap.isOpened():\n",
    "    raise IOError(\"Cannot Open Webcam\")\n",
    "\n",
    "while True:\n",
    "    ret,frame = cap.read()\n",
    "\n",
    "    # Detect emotions using FER model\n",
    "    detector = FER()\n",
    "    result = detector.detect_emotions(frame)\n",
    "\n",
    "    gray = cv2.cvtColor(frame, cv2.COLOR_BGR2GRAY)\n",
    "    faces = faceCascade.detectMultiScale(gray,1.1,4)\n",
    "\n",
    "    #Draw a rectangular around the faces\n",
    "    for (x,y,w,h) in faces:\n",
    "        cv2.rectangle(frame,(x,y),(x+w,y+h),(0,255,0), 2)\n",
    "\n",
    "        if result:\n",
    "            emotions = result[0]['emotions']\n",
    "            text = max(emotions, key=emotions.get)\n",
    "        else:\n",
    "            text = 'No face detected'\n",
    "\n",
    "        font = cv2.FONT_HERSHEY_SIMPLEX\n",
    "        text_size = cv2.getTextSize(text, font, 1, 2)[0]\n",
    "        text_x = x + int((w - text_size[0]) / 2)\n",
    "        text_y = y + h + text_size[1]\n",
    "\n",
    "        cv2.putText(frame,\n",
    "               text,\n",
    "               (text_x, text_y),\n",
    "               font, 1,\n",
    "               (0,0,255),\n",
    "               2,\n",
    "               cv2.LINE_4)\n",
    "    cv2.imshow('Original video', frame)\n",
    "\n",
    "    if cv2.waitKey(2) & 0xFF == ord('q'):\n",
    "        break\n",
    "\n",
    "cap.release()\n",
    "cv2.destroyAllWindows() \n"
   ]
  },
  {
   "cell_type": "code",
   "execution_count": null,
   "id": "96eef047",
   "metadata": {},
   "outputs": [],
   "source": []
  }
 ],
 "metadata": {
  "kernelspec": {
   "display_name": "Python 3 (ipykernel)",
   "language": "python",
   "name": "python3"
  },
  "language_info": {
   "codemirror_mode": {
    "name": "ipython",
    "version": 3
   },
   "file_extension": ".py",
   "mimetype": "text/x-python",
   "name": "python",
   "nbconvert_exporter": "python",
   "pygments_lexer": "ipython3",
   "version": "3.10.9"
  }
 },
 "nbformat": 4,
 "nbformat_minor": 5
}
